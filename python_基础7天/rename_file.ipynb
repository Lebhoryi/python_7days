{
 "cells": [
  {
   "cell_type": "code",
   "execution_count": 37,
   "metadata": {},
   "outputs": [],
   "source": [
    "'''\n",
    "文件名： rename_file.ipynb\n",
    "摘要：   项目实战1: 重新命名文件\n",
    "        原文件使用os.listdir(),后来自己用os.walk()又做了一遍\n",
    "\n",
    "    名字：如何利用 python 重命名一个文件名\n",
    "    描述：从一堆文件中查找指定的文件名，然后重新命名。比如\n",
    "         project30 重新命名为 project20\n",
    "    知识点：\n",
    "         1. if xxx in xxxx\n",
    "         2. fo xx in xxx\n",
    "         3. import 用法\n",
    "         4. OS 模块的使用\n",
    "\n",
    "版本：  v0.0.1\n",
    "\n",
    "作者：  Lebhoryi@gmail.com\n",
    "时间：  2018/11/03\n",
    "'''\n",
    "\n",
    "##########################################################\n",
    "# 根据问题描述，我们把问题拆解为 3 个\n",
    "#     1. 如何找到指定路径下的所有文件\n",
    "#     2. 如何找到指定的文件名在指定的路径下\n",
    "#     3. 如何重新命名找到的文件为新的名字\n",
    "##########################################################\n",
    "\n",
    "# 从/home/xiaoyi/Downloads/找到lecture1.pdf，并改名为lecture.pdf\n",
    "import os\n",
    "import operator as op\n",
    "\n",
    "# 查找文件的绝对路径\n",
    "path = \"/home/xiaoyi/Downloads\"\n",
    "\n",
    "# os.listdir(): 返回 path 指定的文件夹包含的文件或文件夹的名字的列表。\n",
    "files = os.listdir(path)\n",
    "# print(f\"{path}下的文件有：\\n{files}\")\n",
    "# for file in files:\n",
    "#     print(file)"
   ]
  },
  {
   "cell_type": "code",
   "execution_count": 38,
   "metadata": {},
   "outputs": [
    {
     "name": "stdout",
     "output_type": "stream",
     "text": [
      "原来的文件名字是：lecture1.pdf\n",
      "Old_file_path is /home/xiaoyi/Downloads/lecture1.pdf\n",
      "File will be renamed as : lecture.pdf\n",
      "修改后的文件名是：lecture.pdf\n"
     ]
    }
   ],
   "source": [
    "# 版本1\n",
    "# old_file_name = \"lecture1.pdf\"\n",
    "new_file_name = \"lecture.pdf\"\n",
    "\n",
    "for file in files:\n",
    "    '''批量操作，找到文件，修改文件\n",
    "    '''\n",
    "    # f.endswith()方法用来判断文件结尾\n",
    "    # f.startswith()判断文件开头\n",
    "    if \"lecture1\" in file and file.endswith(\".pdf\"):\n",
    "        print(f\"原来的文件名字是：{file}\")\n",
    "        \n",
    "        # 找到旧文件的路径\n",
    "        old_file_path = os.path.join(path, file)\n",
    "        print(f\"Old_file_path is {old_file_path}\")\n",
    "        \n",
    "        # 制定新文件的路径\n",
    "        new_file_path = os.path.join(path, new_file_name)\n",
    "#         print(new_file_path)\n",
    "        print(f\"File will be renamed as : {new_file_name}\")\n",
    "        \n",
    "        os.rename(old_file_path, new_file_path)    # rename file\n",
    "        \n",
    "        print(f\"修改后的文件名是：{new_file_name}\")"
   ]
  },
  {
   "cell_type": "code",
   "execution_count": 39,
   "metadata": {},
   "outputs": [
    {
     "name": "stdout",
     "output_type": "stream",
     "text": [
      "lecture.pdf\n",
      "旧文件名是: lecture.pdf\t旧文件的路径是: /home/xiaoyi/Downloads/lecture.pdf\n",
      "新文件名是: lecture1.pdf\t新文件的路径是: /home/xiaoyi/Downloads/lecture1.pdf\n",
      "修改后的文件名是：lecture1.pdf\n"
     ]
    }
   ],
   "source": [
    "# 版本2：\n",
    "#    用os.walk()方法将Downloads目录下的lecture.pdf，改回为lecture1.pdf\n",
    "old_file = \"lecture.pdf\"\n",
    "new_file = \"lecture1.pdf\"\n",
    "\n",
    "for root, dirs, files in os.walk(path):\n",
    "    # os.walk中的file是先遍历子目录输出，再遍历第二层子目录输出，继续往下，直到\n",
    "    # 没有文件\n",
    "    for file in files:\n",
    "#         print(file)\n",
    "        # print(file)\n",
    "        '''\n",
    "        ################################################\n",
    "        # 遍历文件\n",
    "        # 判断两个字符是否相同，用==而不是is，或者调用operator.eq\n",
    "        # \n",
    "        # import operator as op\n",
    "        # \n",
    "        # op.eq(file, old_file)\n",
    "        #\n",
    "        ################################################\n",
    "        '''\n",
    "        \n",
    "        if file == old_file:\n",
    "            print(file)\n",
    "            #旧文件的路径\n",
    "            old_file_path = os.path.join(root, old_file)\n",
    "            print(f\"旧文件名是: {old_file}\\t旧文件的路径是: {old_file_path}\")\n",
    "            \n",
    "#             print(root)\n",
    "            new_file_path = os.path.join(root, new_file)\n",
    "            print(f\"新文件名是: {new_file}\\t新文件的路径是: {new_file_path}\")\n",
    "            \n",
    "            os.rename(old_file_path, new_file_path)\n",
    "            print(f\"修改后的文件名是：{new_file}\")"
   ]
  },
  {
   "cell_type": "code",
   "execution_count": null,
   "metadata": {},
   "outputs": [],
   "source": []
  }
 ],
 "metadata": {
  "kernelspec": {
   "display_name": "py3",
   "language": "python",
   "name": "py3"
  },
  "language_info": {
   "codemirror_mode": {
    "name": "ipython",
    "version": 3
   },
   "file_extension": ".py",
   "mimetype": "text/x-python",
   "name": "python",
   "nbconvert_exporter": "python",
   "pygments_lexer": "ipython3",
   "version": "3.6.3"
  }
 },
 "nbformat": 4,
 "nbformat_minor": 2
}
