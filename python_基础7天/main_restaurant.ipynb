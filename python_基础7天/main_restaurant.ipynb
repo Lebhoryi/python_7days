{
 "cells": [
  {
   "cell_type": "code",
   "execution_count": 1,
   "metadata": {},
   "outputs": [
    {
     "name": "stdout",
     "output_type": "stream",
     "text": [
      "餐馆的名字是：木南饭店\n",
      "餐馆的类型是：中式\n",
      "餐馆现在的时间是：10点...\n",
      "餐馆营业中...\n",
      "现在的用餐人数是：10人...\n",
      "过了一个小时之后的用餐人数是：30人...\n",
      "生意不错嘛，一个小时涨了20个客人\n",
      "\n",
      "\n",
      "餐馆的名字是：重庆老火锅\n",
      "餐馆的类型是：火锅\n",
      "现在的用餐人数是：20人...\n",
      "有10名新的员工入职啦，现在的员工人数增加到：25人\n",
      "有5名老的员工离职啦，现在的员工人数减少到：20人\n",
      "好好想想是不是经营不善的问题，你的员工已经全部离职！\n"
     ]
    }
   ],
   "source": [
    "'''\n",
    "文件名：main_restaurant.ipynb \n",
    "摘要： 项目实战 1--开餐馆的主函数，调用Restaurant.py文件 \n",
    "\n",
    "版本：V0.0.1\n",
    "\n",
    "作者：Lebhoryi@gmail.com\n",
    "时间：20181023\n",
    "'''\n",
    "\n",
    "from Restaurant import Restaurant, Hotpot\n",
    "\n",
    "my_res = Restaurant(\"木南饭店\", \"中式\", 10)\n",
    "my_res.put_name_cla()\n",
    "my_res.is_operating(10)\n",
    "my_res.dining_people()\n",
    "my_res.one_later_people(30)\n",
    "\n",
    "xiaoming_res = Hotpot(\"重庆老火锅\", \"火锅\", 20, 15)\n",
    "xiaoming_res.put_name_cla()\n",
    "xiaoming_res.dining_people()\n",
    "xiaoming_res.update_waiters(10)\n",
    "xiaoming_res.update_waiters(-5)\n",
    "xiaoming_res.update_waiters(-20)\n"
   ]
  }
 ],
 "metadata": {
  "kernelspec": {
   "display_name": "py3",
   "language": "python",
   "name": "py3"
  },
  "language_info": {
   "codemirror_mode": {
    "name": "ipython",
    "version": 3
   },
   "file_extension": ".py",
   "mimetype": "text/x-python",
   "name": "python",
   "nbconvert_exporter": "python",
   "pygments_lexer": "ipython3",
   "version": "3.6.6"
  }
 },
 "nbformat": 4,
 "nbformat_minor": 2
}
