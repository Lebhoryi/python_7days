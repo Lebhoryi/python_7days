{
 "cells": [
  {
   "cell_type": "code",
   "execution_count": 11,
   "metadata": {},
   "outputs": [
    {
     "name": "stdout",
     "output_type": "stream",
     "text": [
      "邀请名单如下:\n",
      "太后\n",
      "皇后\n",
      "纯妃\n",
      "小嘉嫔\n",
      "舒妃\n",
      "皇上\n",
      "春节将至,请大家过来延禧宫小聚。\n",
      "小嘉嫔不想参加宴会。\n",
      "更改后的邀请名单如下：['太后', '皇后', '纯妃', '舒妃', '皇上', '尔晴']\n"
     ]
    }
   ],
   "source": [
    "'''\n",
    "文件名称：第三次作业2\n",
    "\n",
    "摘要：补上第三次作业1和2\n",
    "\n",
    "版本：v0.0.1\n",
    "\n",
    "作者：Lebhoryi\n",
    "时间：20180922\n",
    "'''\n",
    "\n",
    "# 《延禧攻略》之魏璎珞请客之道\n",
    "\n",
    "# 创建一个列表存储所有妃嫔的列表\n",
    "guest_invited = [\"太后\", \"皇后\", \"纯妃\", \"小嘉嫔\", \"舒妃\", \"皇上\"]\n",
    "\n",
    "# 打出每一个人的名字\n",
    "# 告诉大家“春节将至,请大家过来延禧宫小聚。”\n",
    "def print_name(guest_invited):\n",
    "    for guest_name in iter(guest_invited):\n",
    "        print('{}'.format(guest_name))\n",
    "\n",
    "print(\"邀请名单如下:\")\n",
    "print_name(guest_invited)\n",
    "print(\"春节将至,请大家过来延禧宫小聚。\")\n",
    "\n",
    "# 打印出谁不能参加此次宴会\n",
    "print(\"{}不想参加宴会。\".format(guest_invited[3]))\n",
    "\n",
    "# 魏璎珞想请尔晴参加,请重新修改列表,打印出邀请的名单\n",
    "guest_invited.remove(\"小嘉嫔\")\n",
    "guest_invited.append(\"尔晴\")\n",
    "print(\"更改后的邀请名单如下：{}\".format(guest_invited))"
   ]
  },
  {
   "cell_type": "code",
   "execution_count": 27,
   "metadata": {},
   "outputs": [
    {
     "name": "stdout",
     "output_type": "stream",
     "text": [
      "新名单：['哥哥', '太后', '皇后', '纯妃', '舒妃', '皇上', '尔晴', '傅恒']，一共邀请了8人。\n"
     ]
    }
   ],
   "source": [
    "# 皇上收到了，下一步继续\n",
    "# 请使用 insert 方法把‘哥哥’放在邀请名单的开头\n",
    "guest_invited.insert(0,\"哥哥\")\n",
    "\n",
    "# 用 append 方法把‘傅恒’放着名单最后\n",
    "guest_invited.append(\"傅恒\")\n",
    "\n",
    "# guest_invited = ['哥哥', '太后', '皇后', '纯妃', '舒妃', '皇上', '尔晴', '傅恒',]\n",
    "# 重新打印所有人的名单,并且使用 len 方法打印出,一共邀请了多少人\n",
    "print(\"新名单：{}，一共邀请了{}人。\".format(guest_invited,len(guest_invited)))\n",
    "\n",
    "new_guest_invited = guest_invited"
   ]
  },
  {
   "cell_type": "code",
   "execution_count": 33,
   "metadata": {},
   "outputs": [
    {
     "name": "stdout",
     "output_type": "stream",
     "text": [
      "名单上的前三个名字：['哥哥', '太后', '皇后']\n",
      "名单上的后三个名字：['尔晴', '傅恒']\n",
      "名单顺序颠倒：['傅恒', '尔晴', '皇上', '舒妃', '纯妃', '皇后', '太后', '哥哥']\n"
     ]
    }
   ],
   "source": [
    "# print(\"new_guest_invited:{}\".format(new_guest_invited))\n",
    "# 先打印了前三个名字 ,然后又打印查看了后三个人的名字\n",
    "print(\"名单上的前三个名字：{}\".format(new_guest_invited[:3]))\n",
    "print(\"名单上的后三个名字：{}\".format(new_guest_invited[-2:]))\n",
    "new_guest_invited_reverse = new_guest_invited[::-1]\n",
    "print(\"名单顺序颠倒：{}\".format(new_guest_invited_reverse))"
   ]
  },
  {
   "cell_type": "code",
   "execution_count": 35,
   "metadata": {},
   "outputs": [
    {
     "name": "stdout",
     "output_type": "stream",
     "text": [
      "被删除的对象是：傅恒，特别遗憾不能请傅恒吃饭。\n",
      "邀请尔晴出席宴会。\n",
      "被删除的对象是：皇上，特别遗憾不能请皇上吃饭。\n",
      "被删除的对象是：舒妃，特别遗憾不能请舒妃吃饭。\n",
      "被删除的对象是：纯妃，特别遗憾不能请纯妃吃饭。\n",
      "邀请皇后出席宴会。\n",
      "被删除的对象是：太后，特别遗憾不能请太后吃饭。\n",
      "被删除的对象是：哥哥，特别遗憾不能请哥哥吃饭。\n",
      "被邀请对象：['尔晴', '皇后']\n",
      "宴会开始，名单即将删除...\n",
      "still_invited:[]\n",
      "名单删除成功。\n"
     ]
    }
   ],
   "source": [
    "# 只能宴请两位妃嫔:皇后和尔晴,请用 pop 方法把多余的名单删除,并且告诉他们特别遗\n",
    "# 憾不能邀请大家吃饭。然后告诉皇后和尔晴依然在受邀之列。\n",
    "still_invited = []\n",
    "for i in range(len(new_guest_invited_reverse)):\n",
    "    del_guest = new_guest_invited_reverse.pop(0)\n",
    "    if del_guest == \"皇后\" or del_guest == \"尔晴\":\n",
    "        still_invited.append(del_guest)\n",
    "        print(\"邀请{}出席宴会。\".format(del_guest))\n",
    "    else:\n",
    "        print(\"被删除的对象是：{}，特别遗憾不能请{}吃饭。\".format(del_guest,del_guest))\n",
    "\n",
    "# 打印被邀请对象\n",
    "print(\"被邀请对象：{}\".format(still_invited))\n",
    "\n",
    "# 宴会开始，删除名单\n",
    "print(\"宴会开始，名单即将删除...\")\n",
    "for i in range(len(still_invited)):\n",
    "    del still_invited[0]\n",
    "print(\"still_invited:{}\".format(still_invited))\n",
    "print(\"名单删除成功。\")"
   ]
  }
 ],
 "metadata": {
  "kernelspec": {
   "display_name": "Python 3",
   "language": "python",
   "name": "python3"
  },
  "language_info": {
   "codemirror_mode": {
    "name": "ipython",
    "version": 3
   },
   "file_extension": ".py",
   "mimetype": "text/x-python",
   "name": "python",
   "nbconvert_exporter": "python",
   "pygments_lexer": "ipython3",
   "version": "3.6.5"
  }
 },
 "nbformat": 4,
 "nbformat_minor": 2
}
